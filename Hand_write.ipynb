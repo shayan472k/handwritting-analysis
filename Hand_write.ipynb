{
 "cells": [
  {
   "cell_type": "markdown",
   "metadata": {
    "colab_type": "text",
    "id": "STePQjmcYdky"
   },
   "source": [
    "Here we call the MNIST dataset, train the model and lastly compile the model"
   ]
  },
  {
   "cell_type": "code",
   "execution_count": 2,
   "metadata": {
    "colab": {
     "base_uri": "https://localhost:8080/",
     "height": 1000
    },
    "colab_type": "code",
    "id": "rloLOq9WJ-qW",
    "outputId": "31dea7fc-4744-4cc2-fe98-7cdcbe9c9c45"
   },
   "outputs": [
    {
     "name": "stdout",
     "output_type": "stream",
     "text": [
      "Downloading data from https://storage.googleapis.com/tensorflow/tf-keras-datasets/mnist.npz\n",
      "11493376/11490434 [==============================] - 0s 0us/step\n"
     ]
    },
    {
     "data": {
      "image/png": "[encoded data removed]",
      "text/plain": [
       "<Figure size 432x288 with 1 Axes>"
      ]
     },
     "metadata": {
      "needs_background": "light",
      "tags": []
     },
     "output_type": "display_data"
    },
    {
     "name": "stdout",
     "output_type": "stream",
     "text": [
      "Model: \"sequential\"\n",
      "_________________________________________________________________\n",
      "Layer (type)                 Output Shape              Param #   \n",
      "=================================================================\n",
      "conv2d (Conv2D)              (None, 9, 9, 32)          320       \n",
      "_________________________________________________________________\n",
      "max_pooling2d (MaxPooling2D) (None, 4, 4, 32)          0         \n",
      "_________________________________________________________________\n",
      "conv2d_1 (Conv2D)            (None, 1, 1, 64)          18496     \n",
      "_________________________________________________________________\n",
      "dropout (Dropout)            (None, 1, 1, 64)          0         \n",
      "_________________________________________________________________\n",
      "flatten (Flatten)            (None, 64)                0         \n",
      "_________________________________________________________________\n",
      "dense (Dense)                (None, 1000)              65000     \n",
      "_________________________________________________________________\n",
      "dropout_1 (Dropout)          (None, 1000)              0         \n",
      "_________________________________________________________________\n",
      "dense_1 (Dense)              (None, 10)                10010     \n",
      "=================================================================\n",
      "Total params: 93,826\n",
      "Trainable params: 93,826\n",
      "Non-trainable params: 0\n",
      "_________________________________________________________________\n",
      "WARNING:tensorflow:From <ipython-input-2-35878d85b54d>:61: Model.fit_generator (from tensorflow.python.keras.engine.training) is deprecated and will be removed in a future version.\n",
      "Instructions for updating:\n",
      "Please use Model.fit, which supports generators.\n",
      "Epoch 1/15\n",
      "938/937 [==============================] - 23s 24ms/step - loss: 1.8202 - accuracy: 0.3494 - val_loss: 1.2642 - val_accuracy: 0.5857\n",
      "Epoch 2/15\n",
      "938/937 [==============================] - 23s 25ms/step - loss: 1.5410 - accuracy: 0.4543 - val_loss: 1.1629 - val_accuracy: 0.6046\n",
      "Epoch 3/15\n",
      "938/937 [==============================] - 23s 24ms/step - loss: 1.4325 - accuracy: 0.4954 - val_loss: 1.0860 - val_accuracy: 0.6394\n",
      "Epoch 4/15\n",
      "938/937 [==============================] - 23s 24ms/step - loss: 1.3772 - accuracy: 0.5131 - val_loss: 1.0370 - val_accuracy: 0.6501\n",
      "Epoch 5/15\n",
      "938/937 [==============================] - 23s 24ms/step - loss: 1.3386 - accuracy: 0.5299 - val_loss: 1.0541 - val_accuracy: 0.6505\n",
      "Epoch 6/15\n",
      "938/937 [==============================] - 23s 24ms/step - loss: 1.3065 - accuracy: 0.5410 - val_loss: 0.9826 - val_accuracy: 0.6711\n",
      "Epoch 7/15\n",
      "938/937 [==============================] - 23s 24ms/step - loss: 1.2825 - accuracy: 0.5498 - val_loss: 0.9836 - val_accuracy: 0.6660\n",
      "Epoch 8/15\n",
      "938/937 [==============================] - 23s 24ms/step - loss: 1.2696 - accuracy: 0.5564 - val_loss: 0.9255 - val_accuracy: 0.6843\n",
      "Epoch 9/15\n",
      "938/937 [==============================] - 23s 24ms/step - loss: 1.2510 - accuracy: 0.5626 - val_loss: 0.9885 - val_accuracy: 0.6635\n",
      "Epoch 10/15\n",
      "938/937 [==============================] - 23s 24ms/step - loss: 1.2358 - accuracy: 0.5698 - val_loss: 0.8947 - val_accuracy: 0.6961\n",
      "Epoch 11/15\n",
      "938/937 [==============================] - 23s 24ms/step - loss: 1.2253 - accuracy: 0.5744 - val_loss: 0.8989 - val_accuracy: 0.6922\n",
      "Epoch 12/15\n",
      "938/937 [==============================] - 23s 24ms/step - loss: 1.2152 - accuracy: 0.5776 - val_loss: 0.9784 - val_accuracy: 0.6573\n",
      "Epoch 13/15\n",
      "938/937 [==============================] - 23s 24ms/step - loss: 1.2020 - accuracy: 0.5800 - val_loss: 0.9187 - val_accuracy: 0.6705\n",
      "Epoch 14/15\n",
      "938/937 [==============================] - 23s 24ms/step - loss: 1.1958 - accuracy: 0.5841 - val_loss: 0.9293 - val_accuracy: 0.6853\n",
      "Epoch 15/15\n",
      "938/937 [==============================] - 23s 24ms/step - loss: 1.1889 - accuracy: 0.5864 - val_loss: 0.8628 - val_accuracy: 0.7076\n"
     ]
    },
    {
     "data": {
      "text/plain": [
       "<tensorflow.python.keras.callbacks.History at 0x7efd76f7b710>"
      ]
     },
     "execution_count": 2,
     "metadata": {
      "tags": []
     },
     "output_type": "execute_result"
    }
   ],
   "source": [
    "import numpy as np\n",
    "from keras.datasets import mnist\n",
    "from keras.models import Sequential\n",
    "from keras.layers import Dense,Dropout,Flatten\n",
    "from keras.layers.convolutional import Conv2D,MaxPooling2D,Convolution2D\n",
    "from keras.utils import to_categorical\n",
    "from keras.preprocessing.image import ImageDataGenerator\n",
    "\n",
    "(X_train,y_train),(X_test,y_test) = mnist.load_data()\n",
    "X_train.shape\n",
    "X_test.shape\n",
    "import matplotlib.pyplot as plt\n",
    "plt.imshow(X_train[100],cmap='gray')\n",
    "plt.show()\n",
    "y_train[100]\n",
    "X_train = X_train.reshape(X_train.shape[0],28,28,1)\n",
    "X_test = X_test.reshape(X_test.shape[0],28,28,1)\n",
    "\n",
    "#feature scaling\n",
    "X_train = X_train.astype('float')\n",
    "X_test = X_test.astype('float')\n",
    "\n",
    "X_train /=255\n",
    "X_test /=255\n",
    "y_train = to_categorical(y_train,10)\n",
    "y_test = to_categorical(y_test,10)\n",
    "y_train[:3]\n",
    "\n",
    "##building the model\n",
    "\n",
    "model = Sequential()  #create an object for this seq. \n",
    "model.add(Convolution2D(32,3,3,activation='relu',input_shape=(28,28,1)))  # first conv. layer\n",
    "#no_filter,filter_size,a_f,input_shape\n",
    "model.add(MaxPooling2D(2,2))   #max pooling layer\n",
    "model.add(Convolution2D(64,3,3,activation='relu'))   #second conv. layer\n",
    "model.add(Dropout(0.25))     # dropout layer\n",
    "model.add(Flatten())      \n",
    "model.add(Dense(1000,activation='relu'))   #first hidden layer\n",
    "model.add(Dropout(0.5))   ## dropout layer\n",
    "model.add(Dense(10,activation='softmax'))  #output layer\n",
    "model.summary()\n",
    "\n",
    "#compiling the model\n",
    "\n",
    "from keras.optimizers import Adam\n",
    "model.compile(loss='categorical_crossentropy', optimizer=Adam(), \n",
    "              metrics=['accuracy'])\n",
    "train_gen = ImageDataGenerator(shear_range=.2,\n",
    "                               rotation_range=20,\n",
    "                               width_shift_range=0.2,\n",
    "                               height_shift_range=0.2,\n",
    "                               zoom_range=.2,\n",
    "                               horizontal_flip=True)\n",
    "#training the model\n",
    "\n",
    "test_gen = ImageDataGenerator()\n",
    "train_generator = train_gen.flow(X_train, y_train, batch_size=64)\n",
    "test_generator = test_gen.flow(X_test, y_test, batch_size=64)\n",
    "model.fit_generator(train_generator,steps_per_epoch=60000/64,\n",
    "                    epochs=15,\n",
    "                    validation_data=test_generator,\n",
    "                    validation_steps=10000/64)\n",
    "\n",
    "y_train = to_categorical(y_train,10)\n",
    "y_test = to_categorical(y_test,10)\n",
    "y_train[:3]  #i perhaps erased the the output of this syntax due to a bit of haste"
   ]
  },
  {
   "cell_type": "markdown",
   "metadata": {
    "colab_type": "text",
    "id": "TyHCiprmLAop"
   },
   "source": [
    "here we test the model by its accuracy score"
   ]
  },
  {
   "cell_type": "code",
   "execution_count": 30,
   "metadata": {
    "colab": {
     "base_uri": "https://localhost:8080/",
     "height": 67
    },
    "colab_type": "code",
    "id": "wcKsfbrVLA4k",
    "outputId": "4da95e17-524d-4514-fcdc-4e10ad559479"
   },
   "outputs": [
    {
     "name": "stdout",
     "output_type": "stream",
     "text": [
      "313/313 [==============================] - 1s 2ms/step - loss: 0.3764 - accuracy: 0.8817\n",
      "\n",
      "Test accuracy:  0.8816999793052673\n"
     ]
    }
   ],
   "source": [
    "model.save('mnist_cnn.h5')  \n",
    "from keras.models import load_model\n",
    "loaded_model = load_model('mnist_cnn.h5')\n",
    "\n",
    "score = model.evaluate(X_test, y_test)\n",
    "print()\n",
    "print('Test accuracy: ', score[1])"
   ]
  },
  {
   "cell_type": "markdown",
   "metadata": {
    "colab_type": "text",
    "id": "w0MsxXDQY7Da"
   },
   "source": [
    "next we import the image in 'img' and then plot it in graph"
   ]
  },
  {
   "cell_type": "code",
   "execution_count": 54,
   "metadata": {
    "colab": {
     "base_uri": "https://localhost:8080/",
     "height": 286
    },
    "colab_type": "code",
    "id": "CnU99nZ_Nxz1",
    "outputId": "dee9d76a-e030-4290-cbae-c5255a20f266"
   },
   "outputs": [
    {
     "data": {
      "text/plain": [
       "<matplotlib.image.AxesImage at 0x7efd696e65c0>"
      ]
     },
     "execution_count": 54,
     "metadata": {
      "tags": []
     },
     "output_type": "execute_result"
    },
    {
     "data": {
      "image/png": "[encoded data removed]",
      "text/plain": [
       "<Figure size 432x288 with 1 Axes>"
      ]
     },
     "metadata": {
      "needs_background": "light",
      "tags": []
     },
     "output_type": "display_data"
    }
   ],
   "source": [
    "import cv2   \n",
    "import matplotlib.pyplot as plt\n",
    "\n",
    "##to import img in google collab use this code\n",
    "#from google.colab import files\n",
    "#from io import BytesIO\n",
    "#from PIL import Image\n",
    "\n",
    "#uploaded = files.upload()\n",
    "#im = Image.open(BytesIO(uploaded['Image_file_name.jpg'])) ##specifiy the image name in sqaure brackets\n",
    "\n",
    "img=cv2.imread('sha.png')\n",
    "img.shape\n",
    "plt.imshow(img,cmap='gray')\n"
   ]
  },
  {
   "cell_type": "markdown",
   "metadata": {
    "colab_type": "text",
    "id": "ngql6T1eZL-X"
   },
   "source": [
    "Invert the image's color"
   ]
  },
  {
   "cell_type": "code",
   "execution_count": 55,
   "metadata": {
    "colab": {
     "base_uri": "https://localhost:8080/",
     "height": 286
    },
    "colab_type": "code",
    "id": "P6b6OxjUSURc",
    "outputId": "194089a4-f04b-4640-bbd8-efc78b3b5314"
   },
   "outputs": [
    {
     "data": {
      "text/plain": [
       "<matplotlib.image.AxesImage at 0x7efd69631e80>"
      ]
     },
     "execution_count": 55,
     "metadata": {
      "tags": []
     },
     "output_type": "execute_result"
    },
    {
     "data": {
      "image/png": "[encoded data removed]",
      "text/plain": [
       "<Figure size 432x288 with 1 Axes>"
      ]
     },
     "metadata": {
      "needs_background": "light",
      "tags": []
     },
     "output_type": "display_data"
    }
   ],
   "source": [
    "img = np.invert(img)\n",
    "plt.imshow(img,cmap='gray')"
   ]
  },
  {
   "cell_type": "markdown",
   "metadata": {
    "colab_type": "text",
    "id": "1J3n5p5EZSTt"
   },
   "source": [
    "Here we alter the dimesions of the image to check the model"
   ]
  },
  {
   "cell_type": "code",
   "execution_count": 56,
   "metadata": {
    "colab": {
     "base_uri": "https://localhost:8080/",
     "height": 282
    },
    "colab_type": "code",
    "id": "yYr_vxPnSfZg",
    "outputId": "b3ac3048-22c8-4c73-d7b7-cbab098ebacc"
   },
   "outputs": [
    {
     "data": {
      "text/plain": [
       "<matplotlib.image.AxesImage at 0x7efd69604a90>"
      ]
     },
     "execution_count": 56,
     "metadata": {
      "tags": []
     },
     "output_type": "execute_result"
    },
    {
     "data": {
      "image/png": "[encoded data removed]",
      "text/plain": [
       "<Figure size 432x288 with 1 Axes>"
      ]
     },
     "metadata": {
      "needs_background": "light",
      "tags": []
     },
     "output_type": "display_data"
    }
   ],
   "source": [
    "img = cv2.resize(img, (28, 28))\n",
    "img.shape\n",
    "plt.imshow(img,cmap='gray')"
   ]
  },
  {
   "cell_type": "code",
   "execution_count": 57,
   "metadata": {
    "colab": {
     "base_uri": "https://localhost:8080/",
     "height": 282
    },
    "colab_type": "code",
    "id": "NsytRKVyUA4c",
    "outputId": "b24b2b02-8cf5-424a-86af-baed4d41ad53"
   },
   "outputs": [
    {
     "data": {
      "text/plain": [
       "<matplotlib.image.AxesImage at 0x7efd695dbb38>"
      ]
     },
     "execution_count": 57,
     "metadata": {
      "tags": []
     },
     "output_type": "execute_result"
    },
    {
     "data": {
      "image/png": "[encoded data removed]",
      "text/plain": [
       "<Figure size 432x288 with 1 Axes>"
      ]
     },
     "metadata": {
      "needs_background": "light",
      "tags": []
     },
     "output_type": "display_data"
    }
   ],
   "source": [
    "img = cv2.resize(img, (10, 10))\n",
    "img.shape\n",
    "plt.imshow(img,cmap='gray')"
   ]
  },
  {
   "cell_type": "code",
   "execution_count": 58,
   "metadata": {
    "colab": {
     "base_uri": "https://localhost:8080/",
     "height": 282
    },
    "colab_type": "code",
    "id": "e4UtS-jfUXqw",
    "outputId": "62d31f9a-098d-4c9f-e8dc-4ba716d22759"
   },
   "outputs": [
    {
     "data": {
      "text/plain": [
       "<matplotlib.image.AxesImage at 0x7efd6952fda0>"
      ]
     },
     "execution_count": 58,
     "metadata": {
      "tags": []
     },
     "output_type": "execute_result"
    },
    {
     "data": {
      "image/png": "[encoded data removed]",
      "text/plain": [
       "<Figure size 432x288 with 1 Axes>"
      ]
     },
     "metadata": {
      "needs_background": "light",
      "tags": []
     },
     "output_type": "display_data"
    }
   ],
   "source": [
    "img = cv2.resize(img, (30, 28))\n",
    "img.shape\n",
    "plt.imshow(img,cmap='gray')"
   ]
  }
 ],
 "metadata": {
  "colab": {
   "collapsed_sections": [],
   "name": "Untitled0.ipynb",
   "provenance": []
  },
  "kernelspec": {
   "display_name": "Python 3",
   "language": "python",
   "name": "python3"
  },
  "language_info": {
   "codemirror_mode": {
    "name": "ipython",
    "version": 3
   },
   "file_extension": ".py",
   "mimetype": "text/x-python",
   "name": "python",
   "nbconvert_exporter": "python",
   "pygments_lexer": "ipython3",
   "version": "3.7.6"
  }
 },
 "nbformat": 4,
 "nbformat_minor": 1
}
